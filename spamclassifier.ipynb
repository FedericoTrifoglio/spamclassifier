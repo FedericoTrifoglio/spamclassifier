{
 "cells": [
  {
   "cell_type": "markdown",
   "metadata": {},
   "source": [
    "# Spam classifier\n",
    "\n",
    "**Objective:** build a spam classifier with at least 99% precision and at least 90% recall.\n",
    "\n",
    "**Data:** 1897 spam emails + 4150 non-spam emails (181 non-english emails will be removed)\n",
    "\n",
    "**Methodology:** train Naive Bayes classification model using TF-IDF vectorized email texts to learn whether an email is spam or non-spam with at least 99% precision and 90% recall."
   ]
  },
  {
   "cell_type": "code",
   "execution_count": 1,
   "metadata": {},
   "outputs": [],
   "source": [
    "import os\n",
    "import numpy as np\n",
    "import pandas as pd\n",
    "\n",
    "from utils import fetch_data, load_email, make_email_example, plot_precision_recall_vs_threshold\n",
    "\n",
    "from sklearn.model_selection import train_test_split\n",
    "from sklearn.base import BaseEstimator, TransformerMixin\n",
    "from sklearn.feature_extraction.text import TfidfVectorizer\n",
    "from sklearn.naive_bayes import MultinomialNB\n",
    "from sklearn.pipeline import Pipeline\n",
    "from sklearn.model_selection import StratifiedKFold, GridSearchCV, cross_val_predict\n",
    "from sklearn.metrics import precision_score, recall_score, accuracy_score, precision_recall_curve\n",
    "\n",
    "import spacy\n",
    "from spacy.language import Language\n",
    "from spacy_langdetect import LanguageDetector\n",
    "from langdetect import DetectorFactory\n",
    "\n",
    "from tqdm.notebook import tqdm\n",
    "\n",
    "pd.set_option('max_colwidth', 100)\n",
    "tqdm.pandas()"
   ]
  },
  {
   "cell_type": "markdown",
   "metadata": {},
   "source": [
    "## Download email corpus\n",
    "\n",
    "Download and extract some genuine emails and spams from the SpamAssassin public email corpus.\n",
    "\n",
    "Source: https://spamassassin.apache.org/old/publiccorpus/"
   ]
  },
  {
   "cell_type": "code",
   "execution_count": 2,
   "metadata": {},
   "outputs": [],
   "source": [
    "DOWNLOAD_ROOT = \"http://spamassassin.apache.org/old/publiccorpus/\"\n",
    "SPAM_PATH = os.path.join(\"datasets\", \"spam\")\n",
    "\n",
    "fetch_data(DOWNLOAD_ROOT + \"20030228_easy_ham.tar.bz2\", SPAM_PATH)\n",
    "fetch_data(DOWNLOAD_ROOT + \"20030228_easy_ham_2.tar.bz2\", SPAM_PATH)\n",
    "fetch_data(DOWNLOAD_ROOT + \"20030228_hard_ham.tar.bz2\", SPAM_PATH)\n",
    "fetch_data(DOWNLOAD_ROOT + \"20030228_spam.tar.bz2\", SPAM_PATH)\n",
    "fetch_data(DOWNLOAD_ROOT + \"20030228_spam_2.tar.bz2\", SPAM_PATH)"
   ]
  },
  {
   "cell_type": "markdown",
   "metadata": {},
   "source": [
    "## Import raw emails\n",
    "\n",
    "Parse the raw email files we just downloaded."
   ]
  },
  {
   "cell_type": "code",
   "execution_count": 3,
   "metadata": {},
   "outputs": [],
   "source": [
    "\n",
    "easy_ham_filenames = [name for name in os.listdir(os.path.join(SPAM_PATH, 'easy_ham')) if name != 'cmds']\n",
    "easy_ham_2_filenames = [name for name in os.listdir(os.path.join(SPAM_PATH, 'easy_ham_2')) if name != 'cmds']\n",
    "hard_ham_filenames = [name for name in os.listdir(os.path.join(SPAM_PATH, 'hard_ham')) if name != 'cmds']\n",
    "spam_filenames = [name for name in os.listdir(os.path.join(SPAM_PATH, 'spam')) if name != 'cmds']\n",
    "spam_2_filenames = [name for name in os.listdir(os.path.join(SPAM_PATH, 'spam_2')) if name != 'cmds']\n",
    "\n",
    "easy_ham_emails = [load_email(os.path.join(SPAM_PATH, 'easy_ham'), name) for name in easy_ham_filenames]\n",
    "easy_ham_2_emails = [load_email(os.path.join(SPAM_PATH, 'easy_ham_2'), name) for name in easy_ham_2_filenames]\n",
    "hard_ham_emails = [load_email(os.path.join(SPAM_PATH, 'hard_ham'), name) for name in hard_ham_filenames]\n",
    "spam_emails = [load_email(os.path.join(SPAM_PATH, 'spam'), name) for name in spam_filenames]\n",
    "spam_2_emails = [load_email(os.path.join(SPAM_PATH, 'spam_2'), name) for name in spam_2_filenames]\n"
   ]
  },
  {
   "cell_type": "markdown",
   "metadata": {},
   "source": [
    "## Create labelled examples\n",
    "\n",
    "Scrape the text from the emails and add it to an 1x2 array with the label (1=spam, 0=no spam)."
   ]
  },
  {
   "cell_type": "code",
   "execution_count": 4,
   "metadata": {},
   "outputs": [
    {
     "name": "stdout",
     "output_type": "stream",
     "text": [
      "CPU times: total: 51 s\n",
      "Wall time: 51.2 s\n"
     ]
    },
    {
     "data": {
      "text/html": [
       "<div>\n",
       "<style scoped>\n",
       "    .dataframe tbody tr th:only-of-type {\n",
       "        vertical-align: middle;\n",
       "    }\n",
       "\n",
       "    .dataframe tbody tr th {\n",
       "        vertical-align: top;\n",
       "    }\n",
       "\n",
       "    .dataframe thead th {\n",
       "        text-align: right;\n",
       "    }\n",
       "</style>\n",
       "<table border=\"1\" class=\"dataframe\">\n",
       "  <thead>\n",
       "    <tr style=\"text-align: right;\">\n",
       "      <th></th>\n",
       "      <th>Text</th>\n",
       "      <th>Spam</th>\n",
       "    </tr>\n",
       "  </thead>\n",
       "  <tbody>\n",
       "    <tr>\n",
       "      <th>0</th>\n",
       "      <td>re: new sequences window date: wed, 21 aug 2002 10:54:46 -0500 from: chris garrigues message-id:...</td>\n",
       "      <td>0</td>\n",
       "    </tr>\n",
       "    <tr>\n",
       "      <th>1</th>\n",
       "      <td>re: alexander martin a posted: tassos papadopoulos, the greek sculptor behind the plan, judged t...</td>\n",
       "      <td>0</td>\n",
       "    </tr>\n",
       "    <tr>\n",
       "      <th>2</th>\n",
       "      <td>moscow bomber man threatens explosion in moscow thursday august 22, 2002 1:40 pm moscow (ap) - s...</td>\n",
       "      <td>0</td>\n",
       "    </tr>\n",
       "    <tr>\n",
       "      <th>3</th>\n",
       "      <td>klez: the virus that won't die klez: the virus that won't die already the most prolific virus ev...</td>\n",
       "      <td>0</td>\n",
       "    </tr>\n",
       "    <tr>\n",
       "      <th>4</th>\n",
       "      <td>re: nothing like mama used to make in adding cream to spaghetti carbonara, which has the same ef...</td>\n",
       "      <td>0</td>\n",
       "    </tr>\n",
       "  </tbody>\n",
       "</table>\n",
       "</div>"
      ],
      "text/plain": [
       "                                                                                                  Text  \\\n",
       "0  re: new sequences window date: wed, 21 aug 2002 10:54:46 -0500 from: chris garrigues message-id:...   \n",
       "1  re: alexander martin a posted: tassos papadopoulos, the greek sculptor behind the plan, judged t...   \n",
       "2  moscow bomber man threatens explosion in moscow thursday august 22, 2002 1:40 pm moscow (ap) - s...   \n",
       "3  klez: the virus that won't die klez: the virus that won't die already the most prolific virus ev...   \n",
       "4  re: nothing like mama used to make in adding cream to spaghetti carbonara, which has the same ef...   \n",
       "\n",
       "  Spam  \n",
       "0    0  \n",
       "1    0  \n",
       "2    0  \n",
       "3    0  \n",
       "4    0  "
      ]
     },
     "execution_count": 4,
     "metadata": {},
     "output_type": "execute_result"
    }
   ],
   "source": [
    "%%time\n",
    "\n",
    "examples = np.empty((0,2), 'object')\n",
    "for i, he in enumerate(easy_ham_emails + easy_ham_2_emails + hard_ham_emails):\n",
    "    try:\n",
    "        examples = np.append(examples, make_email_example(he, is_spam=False, clean=True), axis=0)\n",
    "    except:\n",
    "        print(i)\n",
    "for i, se in enumerate(spam_emails + spam_2_emails):\n",
    "    try:\n",
    "        examples = np.append(examples, make_email_example(se, is_spam=True, clean=True), axis=0)\n",
    "    except:\n",
    "        print(i)\n",
    "\n",
    "df = pd.DataFrame(examples, columns = ['Text', 'Spam'])\n",
    "df.head()"
   ]
  },
  {
   "cell_type": "markdown",
   "metadata": {},
   "source": [
    "## Text preprocessing\n",
    "\n",
    "Lemmatize and detect langugage with confidence score, then remove non-English emails or English emails with confidence less than 0.99"
   ]
  },
  {
   "cell_type": "code",
   "execution_count": 5,
   "metadata": {},
   "outputs": [],
   "source": [
    "# Since SpaCy 3.0 to add custom factory component to Spacy pipeline:\n",
    "# 1. create function with arguments nlp and name that returns a factory\n",
    "# 2. decorate function with @Language.factory('foo')\n",
    "@Language.factory('language_detector')\n",
    "def get_lang_detector(nlp, name):\n",
    "    # https://github.com/Abhijit-2592/spacy-langdetect/issues/3\n",
    "    DetectorFactory.seed = 42\n",
    "    return LanguageDetector()"
   ]
  },
  {
   "cell_type": "code",
   "execution_count": 27,
   "metadata": {},
   "outputs": [
    {
     "name": "stdout",
     "output_type": "stream",
     "text": [
      "Spacy pipeline: tok2vec > tagger > attribute_ruler > lemmatizer > sentencizer > language_detector\n"
     ]
    }
   ],
   "source": [
    "nlp = spacy.load('en_core_web_sm')\n",
    "nlp.disable_pipes('parser', 'ner')\n",
    "nlp.add_pipe('sentencizer')\n",
    "nlp.add_pipe('language_detector')\n",
    "print(\"Spacy pipeline:\", \" > \".join(nlp.pipe_names))\n",
    "\n",
    "def email_nlp_preproc(text):\n",
    "    doc = nlp(text)\n",
    "    lem = \" \".join([token.lemma_ for token in doc])\n",
    "    lang, conf = doc._.language.values()\n",
    "    return lem, lang, conf"
   ]
  },
  {
   "cell_type": "code",
   "execution_count": 28,
   "metadata": {},
   "outputs": [
    {
     "data": {
      "application/vnd.jupyter.widget-view+json": {
       "model_id": "dd7b38e4347d4a86a87db1da1eb633e7",
       "version_major": 2,
       "version_minor": 0
      },
      "text/plain": [
       "  0%|          | 0/6047 [00:00<?, ?it/s]"
      ]
     },
     "metadata": {},
     "output_type": "display_data"
    }
   ],
   "source": [
    "df[['Text_Lemm', 'Lang', 'Conf']]  = pd.DataFrame(\n",
    "    df['Text'].progress_apply(email_nlp_preproc).tolist()\n",
    "    )"
   ]
  },
  {
   "cell_type": "code",
   "execution_count": 35,
   "metadata": {},
   "outputs": [
    {
     "name": "stdout",
     "output_type": "stream",
     "text": [
      "Here's some examples.\n",
      "Hover on the text to see the full content.\n"
     ]
    },
    {
     "data": {
      "text/html": [
       "<style type=\"text/css\">\n",
       "#T_328cc td.col0 {\n",
       "  max-width: 800px;\n",
       "  overflow: hidden;\n",
       "  text-overflow: ellipsis;\n",
       "  white-space: nowrap;\n",
       "}\n",
       "#T_328cc td:hover.col0 {\n",
       "  overflow: visible;\n",
       "  white-space: normal;\n",
       "}\n",
       "</style>\n",
       "<table id=\"T_328cc\">\n",
       "  <thead>\n",
       "    <tr>\n",
       "      <th class=\"blank level0\" >&nbsp;</th>\n",
       "      <th id=\"T_328cc_level0_col0\" class=\"col_heading level0 col0\" >Text_Lemm</th>\n",
       "      <th id=\"T_328cc_level0_col1\" class=\"col_heading level0 col1\" >Lang</th>\n",
       "      <th id=\"T_328cc_level0_col2\" class=\"col_heading level0 col2\" >Conf</th>\n",
       "    </tr>\n",
       "  </thead>\n",
       "  <tbody>\n",
       "    <tr>\n",
       "      <th id=\"T_328cc_level0_row0\" class=\"row_heading level0 row0\" >1145</th>\n",
       "      <td id=\"T_328cc_row0_col0\" class=\"data row0 col0\" >unseen window versus sequence window I apologize for not catch up to the current code in so long . now that I have I be try to resolve \" breakage \" and difference . the unseen window seem to have be replace with the sequence window . while I appreciate the flexibility of the sequence window , the unseen window fill an important - to - I need : it be tiny and could be set to show on all desktop of a virtual window manager without take a lot of space . since my normal mode of operation involve two copy of exmh display on a 1024x768 vnc session , screen space be at a premium . as thing stand now , I have a sequence window that show a lot more information than I need to have handy and take up a lot more room than I can \" spare \" . I can see that I could like the new sequence window a lot for certain operation . but I would like a nice uncluttered , tiny window that _ only _ show I info on my unread mail . one possibility that occur to I would be a button or mouse click that \" shrink \" the sequence window to show only the sequence in the \" always show \" list . and of course a way to expand it back . hal exmh - worker mailing list</td>\n",
       "      <td id=\"T_328cc_row0_col1\" class=\"data row0 col1\" >en</td>\n",
       "      <td id=\"T_328cc_row0_col2\" class=\"data row0 col2\" >0.999998</td>\n",
       "    </tr>\n",
       "    <tr>\n",
       "      <th id=\"T_328cc_level0_row1\" class=\"row_heading level0 row1\" >1489</th>\n",
       "      <td id=\"T_328cc_row1_col0\" class=\"data row1 col0\" >re : phew ! matt kettler say : ok , first , the important stuff . happy birthday justin ( a lil late , but oh well ) cheer ! a 13 % miss ratio on the spam corpus at 5.0 seem awfully high , although that nice low fp percentage be quite nice , as be the narrow - in of average fp / fn score compare to 2.40 . as dan say it be a hard corpus , make hard without the spamtrap datum . also and this be an important point those measurement can not be directly compare , because I change the methodology . in 2.40 the score be evolve on the entire corpus , then evaluate use that corpus ; ie . there be no \" blind \" testing , and the score could overfit and still provide good statistic . in 2.42 , they be evaluate \" blind \" , on a totally unseen set of message , so those figure would be a lot more accurate for real - world use . j.</td>\n",
       "      <td id=\"T_328cc_row1_col1\" class=\"data row1 col1\" >en</td>\n",
       "      <td id=\"T_328cc_row1_col2\" class=\"data row1 col2\" >0.999998</td>\n",
       "    </tr>\n",
       "    <tr>\n",
       "      <th id=\"T_328cc_level0_row2\" class=\"row_heading level0 row2\" >823</th>\n",
       "      <td id=\"T_328cc_row2_col0\" class=\"data row2 col0\" >re : ebusiness webform : cluetrain have leave the station ... webform /can/ accept \" u.s . of a \" as a country . incredible , but true . web form can also accept /multiple/ or even /free - form/ telephone number ... be the people who use procrustean web form practice the same one who do not accept fax ? when I * really * need to get something do , instead of just idle surfing , I call or fax . faxing , like a web form , can be do 24x7 ; it allow I to give all the ( and only the ) pertinent info in a single place ; it also provide a self - journalle correspondence , which mean rollback be easy and replay be even easy . -dave sure , tile window be the good we have for a brief period of time , but they be completely useless except for some terminal base replacement application . I 've be run a tiled ( but somewhat overlap , yield a horizontal stack ) window manager lately . like fill in a web form , find edge and shuffle window may seem productive , but I find that have a window manager manage the window mean I can concentrate on what I want to do with their content . \" dumb question : x client behind a firewall ? \" back in my day , they do not have ssh . then again , back in my day , they do not have firewall . back in my day , when one change computer installation , email would be forward as a courtesy . now , we seem to have swing so far in the opposite direction that it make sense to ditch address every couple of year to shed spam .</td>\n",
       "      <td id=\"T_328cc_row2_col1\" class=\"data row2 col1\" >en</td>\n",
       "      <td id=\"T_328cc_row2_col2\" class=\"data row2 col2\" >0.999997</td>\n",
       "    </tr>\n",
       "    <tr>\n",
       "      <th id=\"T_328cc_level0_row3\" class=\"row_heading level0 row3\" >1656</th>\n",
       "      <td id=\"T_328cc_row3_col0\" class=\"data row3 col0\" >deployment I think one step towards deployment be create a re - usable tokenizer for mail message . the current codebase do not expose an easy - to - use or easy - to - customize tokenizer . the timtest module seem to contain an enormous body of practical knowledge about how to parse mail message , but the module be not design for re - use . I would like to see a module that can take a single message or a collection of message and tokenize each one . I would like to see the tokenize by customizable , too . tim have to exclude some header from his test datum , because there be particular bias in the test datum . if other people have test datum without those bias , they ought to be able to customize the tokenizer to include they or exclude other . jeremy</td>\n",
       "      <td id=\"T_328cc_row3_col1\" class=\"data row3 col1\" >en</td>\n",
       "      <td id=\"T_328cc_row3_col2\" class=\"data row3 col2\" >0.999996</td>\n",
       "    </tr>\n",
       "    <tr>\n",
       "      <th id=\"T_328cc_level0_row4\" class=\"row_heading level0 row4\" >5003</th>\n",
       "      <td id=\"T_328cc_row4_col0\" class=\"data row4 col0\" >financial freedom dear friend , how would you like to make $ 50,000 in the next 90 day ? sound impossible ? I guarantee that it be true , and you can do it . I be sure you would like an extra $ 50,000 to spend . for more information , please visit the website below . if the above link do not work , please copy the address and paste it into your web browser . at the very least take a minute to look at what be on the site , it may change your life forever . note : this be not an unsolicited e - mail . by request , your e - mail address have be verify by you to receive opt - in e - mail promotion . if you do not wish to receive these email and want to unsubscribe yourself from the term of this verification , please reply to this email with the word \" remove \" in the subject line , and you will be remove from our mailing list .</td>\n",
       "      <td id=\"T_328cc_row4_col1\" class=\"data row4 col1\" >en</td>\n",
       "      <td id=\"T_328cc_row4_col2\" class=\"data row4 col2\" >0.999996</td>\n",
       "    </tr>\n",
       "  </tbody>\n",
       "</table>\n"
      ],
      "text/plain": [
       "<pandas.io.formats.style.Styler at 0x1ee9e7ba1f0>"
      ]
     },
     "execution_count": 35,
     "metadata": {},
     "output_type": "execute_result"
    }
   ],
   "source": [
    "s = df[df.Lang == 'en'][['Text_Lemm', 'Lang', 'Conf']].sort_values('Conf').sample(5).style\n",
    "s.set_table_styles({\n",
    "   ('Text_Lemm'): [{'selector': 'td', 'props': 'max-width: 800px; overflow: hidden; text-overflow: ellipsis; white-space: nowrap;'},\n",
    "              {'selector': 'td:hover', 'props': 'overflow: visible; white-space: normal;'}]\n",
    "}, overwrite=False)\n",
    "print(\"Here's some examples.\\nHover on the text to see the full content.\")\n",
    "s"
   ]
  },
  {
   "cell_type": "code",
   "execution_count": 36,
   "metadata": {},
   "outputs": [
    {
     "data": {
      "image/png": "[encoded data removed]",
      "text/plain": [
       "<Figure size 432x288 with 1 Axes>"
      ]
     },
     "metadata": {
      "needs_background": "light"
     },
     "output_type": "display_data"
    }
   ],
   "source": [
    "ax = df['Conf'].plot(kind='hist', title=\"Histogram of confidence emails' language is English\")\n",
    "_ = ax.set_xlabel(\"Confidence is English (0=min, 1=max)\")"
   ]
  },
  {
   "cell_type": "code",
   "execution_count": 37,
   "metadata": {},
   "outputs": [
    {
     "name": "stdout",
     "output_type": "stream",
     "text": [
      "Non-english emails removed: 181\n"
     ]
    }
   ],
   "source": [
    "df_en = df[(df.Lang == 'en') & (df.Conf >= 0.99)]\n",
    "print('Non-english emails removed:', len(df) - len(df_en))"
   ]
  },
  {
   "cell_type": "markdown",
   "metadata": {},
   "source": [
    "## Training\n",
    "\n",
    "Build the following pipeline and use it in a standard Grid Search CV to find the best hyperparameters the second and third stages of the pipeline.\n",
    "\n",
    "**Pipeline:**\n",
    "Lemmatizer > TF-IDF vectorizer > Naive Bayes classifier\n"
   ]
  },
  {
   "cell_type": "code",
   "execution_count": 38,
   "metadata": {},
   "outputs": [],
   "source": [
    "X = df_en['Text_Lemm'].copy()\n",
    "y = df_en['Spam'].values.astype(int)\n",
    "X_train, X_test, y_train, y_test = train_test_split(X, y, test_size=0.2, random_state=42)"
   ]
  },
  {
   "cell_type": "code",
   "execution_count": 39,
   "metadata": {},
   "outputs": [
    {
     "name": "stdout",
     "output_type": "stream",
     "text": [
      "Fitting 3 folds for each of 16 candidates, totalling 48 fits\n",
      "[CV 1/3] END model__alpha=0.1, tfidf__max_df=20, tfidf__min_df=1, tfidf__ngram_range=(1, 1), tfidf__stop_words=english; accuracy: (test=0.930) f1_weighted: (test=0.928) total time=   2.5s\n",
      "[CV 2/3] END model__alpha=0.1, tfidf__max_df=20, tfidf__min_df=1, tfidf__ngram_range=(1, 1), tfidf__stop_words=english; accuracy: (test=0.939) f1_weighted: (test=0.938) total time=   2.7s\n",
      "[CV 3/3] END model__alpha=0.1, tfidf__max_df=20, tfidf__min_df=1, tfidf__ngram_range=(1, 1), tfidf__stop_words=english; accuracy: (test=0.932) f1_weighted: (test=0.930) total time=   2.5s\n",
      "[CV 1/3] END model__alpha=0.1, tfidf__max_df=20, tfidf__min_df=1, tfidf__ngram_range=(1, 2), tfidf__stop_words=english; accuracy: (test=0.974) f1_weighted: (test=0.974) total time=   5.6s\n",
      "[CV 2/3] END model__alpha=0.1, tfidf__max_df=20, tfidf__min_df=1, tfidf__ngram_range=(1, 2), tfidf__stop_words=english; accuracy: (test=0.974) f1_weighted: (test=0.974) total time=   5.9s\n",
      "[CV 3/3] END model__alpha=0.1, tfidf__max_df=20, tfidf__min_df=1, tfidf__ngram_range=(1, 2), tfidf__stop_words=english; accuracy: (test=0.976) f1_weighted: (test=0.976) total time=   5.9s\n",
      "[CV 1/3] END model__alpha=0.1, tfidf__max_df=20, tfidf__min_df=10, tfidf__ngram_range=(1, 1), tfidf__stop_words=english; accuracy: (test=0.898) f1_weighted: (test=0.895) total time=   2.4s\n",
      "[CV 2/3] END model__alpha=0.1, tfidf__max_df=20, tfidf__min_df=10, tfidf__ngram_range=(1, 1), tfidf__stop_words=english; accuracy: (test=0.900) f1_weighted: (test=0.898) total time=   3.1s\n",
      "[CV 3/3] END model__alpha=0.1, tfidf__max_df=20, tfidf__min_df=10, tfidf__ngram_range=(1, 1), tfidf__stop_words=english; accuracy: (test=0.879) f1_weighted: (test=0.875) total time=   3.0s\n",
      "[CV 1/3] END model__alpha=0.1, tfidf__max_df=20, tfidf__min_df=10, tfidf__ngram_range=(1, 2), tfidf__stop_words=english; accuracy: (test=0.950) f1_weighted: (test=0.950) total time=   4.9s\n",
      "[CV 2/3] END model__alpha=0.1, tfidf__max_df=20, tfidf__min_df=10, tfidf__ngram_range=(1, 2), tfidf__stop_words=english; accuracy: (test=0.951) f1_weighted: (test=0.951) total time=   4.2s\n",
      "[CV 3/3] END model__alpha=0.1, tfidf__max_df=20, tfidf__min_df=10, tfidf__ngram_range=(1, 2), tfidf__stop_words=english; accuracy: (test=0.946) f1_weighted: (test=0.946) total time=   4.9s\n",
      "[CV 1/3] END model__alpha=0.1, tfidf__max_df=50, tfidf__min_df=1, tfidf__ngram_range=(1, 1), tfidf__stop_words=english; accuracy: (test=0.953) f1_weighted: (test=0.952) total time=   2.7s\n",
      "[CV 2/3] END model__alpha=0.1, tfidf__max_df=50, tfidf__min_df=1, tfidf__ngram_range=(1, 1), tfidf__stop_words=english; accuracy: (test=0.960) f1_weighted: (test=0.960) total time=   2.9s\n",
      "[CV 3/3] END model__alpha=0.1, tfidf__max_df=50, tfidf__min_df=1, tfidf__ngram_range=(1, 1), tfidf__stop_words=english; accuracy: (test=0.951) f1_weighted: (test=0.951) total time=   2.6s\n",
      "[CV 1/3] END model__alpha=0.1, tfidf__max_df=50, tfidf__min_df=1, tfidf__ngram_range=(1, 2), tfidf__stop_words=english; accuracy: (test=0.975) f1_weighted: (test=0.975) total time=   5.8s\n",
      "[CV 2/3] END model__alpha=0.1, tfidf__max_df=50, tfidf__min_df=1, tfidf__ngram_range=(1, 2), tfidf__stop_words=english; accuracy: (test=0.980) f1_weighted: (test=0.979) total time=   5.9s\n",
      "[CV 3/3] END model__alpha=0.1, tfidf__max_df=50, tfidf__min_df=1, tfidf__ngram_range=(1, 2), tfidf__stop_words=english; accuracy: (test=0.975) f1_weighted: (test=0.975) total time=   5.8s\n",
      "[CV 1/3] END model__alpha=0.1, tfidf__max_df=50, tfidf__min_df=10, tfidf__ngram_range=(1, 1), tfidf__stop_words=english; accuracy: (test=0.948) f1_weighted: (test=0.947) total time=   2.3s\n",
      "[CV 2/3] END model__alpha=0.1, tfidf__max_df=50, tfidf__min_df=10, tfidf__ngram_range=(1, 1), tfidf__stop_words=english; accuracy: (test=0.941) f1_weighted: (test=0.940) total time=   2.5s\n",
      "[CV 3/3] END model__alpha=0.1, tfidf__max_df=50, tfidf__min_df=10, tfidf__ngram_range=(1, 1), tfidf__stop_words=english; accuracy: (test=0.937) f1_weighted: (test=0.936) total time=   2.4s\n",
      "[CV 1/3] END model__alpha=0.1, tfidf__max_df=50, tfidf__min_df=10, tfidf__ngram_range=(1, 2), tfidf__stop_words=english; accuracy: (test=0.967) f1_weighted: (test=0.967) total time=   4.7s\n",
      "[CV 2/3] END model__alpha=0.1, tfidf__max_df=50, tfidf__min_df=10, tfidf__ngram_range=(1, 2), tfidf__stop_words=english; accuracy: (test=0.967) f1_weighted: (test=0.967) total time=   4.6s\n",
      "[CV 3/3] END model__alpha=0.1, tfidf__max_df=50, tfidf__min_df=10, tfidf__ngram_range=(1, 2), tfidf__stop_words=english; accuracy: (test=0.965) f1_weighted: (test=0.965) total time=   4.9s\n",
      "[CV 1/3] END model__alpha=1, tfidf__max_df=20, tfidf__min_df=1, tfidf__ngram_range=(1, 1), tfidf__stop_words=english; accuracy: (test=0.888) f1_weighted: (test=0.880) total time=   2.7s\n",
      "[CV 2/3] END model__alpha=1, tfidf__max_df=20, tfidf__min_df=1, tfidf__ngram_range=(1, 1), tfidf__stop_words=english; accuracy: (test=0.898) f1_weighted: (test=0.892) total time=   2.9s\n",
      "[CV 3/3] END model__alpha=1, tfidf__max_df=20, tfidf__min_df=1, tfidf__ngram_range=(1, 1), tfidf__stop_words=english; accuracy: (test=0.884) f1_weighted: (test=0.875) total time=   2.6s\n",
      "[CV 1/3] END model__alpha=1, tfidf__max_df=20, tfidf__min_df=1, tfidf__ngram_range=(1, 2), tfidf__stop_words=english; accuracy: (test=0.926) f1_weighted: (test=0.923) total time=   6.4s\n",
      "[CV 2/3] END model__alpha=1, tfidf__max_df=20, tfidf__min_df=1, tfidf__ngram_range=(1, 2), tfidf__stop_words=english; accuracy: (test=0.922) f1_weighted: (test=0.918) total time=   6.2s\n",
      "[CV 3/3] END model__alpha=1, tfidf__max_df=20, tfidf__min_df=1, tfidf__ngram_range=(1, 2), tfidf__stop_words=english; accuracy: (test=0.930) f1_weighted: (test=0.927) total time=   6.0s\n",
      "[CV 1/3] END model__alpha=1, tfidf__max_df=20, tfidf__min_df=10, tfidf__ngram_range=(1, 1), tfidf__stop_words=english; accuracy: (test=0.893) f1_weighted: (test=0.889) total time=   2.4s\n",
      "[CV 2/3] END model__alpha=1, tfidf__max_df=20, tfidf__min_df=10, tfidf__ngram_range=(1, 1), tfidf__stop_words=english; accuracy: (test=0.897) f1_weighted: (test=0.893) total time=   2.6s\n",
      "[CV 3/3] END model__alpha=1, tfidf__max_df=20, tfidf__min_df=10, tfidf__ngram_range=(1, 1), tfidf__stop_words=english; accuracy: (test=0.882) f1_weighted: (test=0.876) total time=   2.4s\n",
      "[CV 1/3] END model__alpha=1, tfidf__max_df=20, tfidf__min_df=10, tfidf__ngram_range=(1, 2), tfidf__stop_words=english; accuracy: (test=0.946) f1_weighted: (test=0.946) total time=   4.5s\n",
      "[CV 2/3] END model__alpha=1, tfidf__max_df=20, tfidf__min_df=10, tfidf__ngram_range=(1, 2), tfidf__stop_words=english; accuracy: (test=0.953) f1_weighted: (test=0.952) total time=   4.5s\n",
      "[CV 3/3] END model__alpha=1, tfidf__max_df=20, tfidf__min_df=10, tfidf__ngram_range=(1, 2), tfidf__stop_words=english; accuracy: (test=0.942) f1_weighted: (test=0.941) total time=   4.5s\n",
      "[CV 1/3] END model__alpha=1, tfidf__max_df=50, tfidf__min_df=1, tfidf__ngram_range=(1, 1), tfidf__stop_words=english; accuracy: (test=0.912) f1_weighted: (test=0.908) total time=   2.6s\n",
      "[CV 2/3] END model__alpha=1, tfidf__max_df=50, tfidf__min_df=1, tfidf__ngram_range=(1, 1), tfidf__stop_words=english; accuracy: (test=0.918) f1_weighted: (test=0.913) total time=   2.7s\n",
      "[CV 3/3] END model__alpha=1, tfidf__max_df=50, tfidf__min_df=1, tfidf__ngram_range=(1, 1), tfidf__stop_words=english; accuracy: (test=0.911) f1_weighted: (test=0.906) total time=   2.5s\n",
      "[CV 1/3] END model__alpha=1, tfidf__max_df=50, tfidf__min_df=1, tfidf__ngram_range=(1, 2), tfidf__stop_words=english; accuracy: (test=0.940) f1_weighted: (test=0.938) total time=   5.9s\n",
      "[CV 2/3] END model__alpha=1, tfidf__max_df=50, tfidf__min_df=1, tfidf__ngram_range=(1, 2), tfidf__stop_words=english; accuracy: (test=0.935) f1_weighted: (test=0.933) total time=   5.9s\n",
      "[CV 3/3] END model__alpha=1, tfidf__max_df=50, tfidf__min_df=1, tfidf__ngram_range=(1, 2), tfidf__stop_words=english; accuracy: (test=0.943) f1_weighted: (test=0.941) total time=   6.2s\n",
      "[CV 1/3] END model__alpha=1, tfidf__max_df=50, tfidf__min_df=10, tfidf__ngram_range=(1, 1), tfidf__stop_words=english; accuracy: (test=0.943) f1_weighted: (test=0.942) total time=   2.5s\n",
      "[CV 2/3] END model__alpha=1, tfidf__max_df=50, tfidf__min_df=10, tfidf__ngram_range=(1, 1), tfidf__stop_words=english; accuracy: (test=0.941) f1_weighted: (test=0.940) total time=   2.5s\n",
      "[CV 3/3] END model__alpha=1, tfidf__max_df=50, tfidf__min_df=10, tfidf__ngram_range=(1, 1), tfidf__stop_words=english; accuracy: (test=0.930) f1_weighted: (test=0.929) total time=   2.6s\n",
      "[CV 1/3] END model__alpha=1, tfidf__max_df=50, tfidf__min_df=10, tfidf__ngram_range=(1, 2), tfidf__stop_words=english; accuracy: (test=0.968) f1_weighted: (test=0.968) total time=   4.4s\n",
      "[CV 2/3] END model__alpha=1, tfidf__max_df=50, tfidf__min_df=10, tfidf__ngram_range=(1, 2), tfidf__stop_words=english; accuracy: (test=0.967) f1_weighted: (test=0.966) total time=   4.4s\n",
      "[CV 3/3] END model__alpha=1, tfidf__max_df=50, tfidf__min_df=10, tfidf__ngram_range=(1, 2), tfidf__stop_words=english; accuracy: (test=0.957) f1_weighted: (test=0.956) total time=   4.5s\n",
      "CPU times: total: 3min 20s\n",
      "Wall time: 3min 21s\n"
     ]
    }
   ],
   "source": [
    "%%time\n",
    "\n",
    "full_pipeline = Pipeline([\n",
    "    ('tfidf', TfidfVectorizer()),\n",
    "    ('model', MultinomialNB())\n",
    "])\n",
    "\n",
    "param_grid = [\n",
    "    {\n",
    "        'tfidf__stop_words': ['english'],\n",
    "        'tfidf__ngram_range': [(1,1), (1,2)],\n",
    "        'tfidf__max_df': [20, 50],\n",
    "        'tfidf__min_df': [1, 10],\n",
    "        'model__alpha': [.1, 1]\n",
    "    }\n",
    "]\n",
    "\n",
    "kfolds = StratifiedKFold(n_splits=3, shuffle=True, random_state=42)\n",
    "\n",
    "grid_search = GridSearchCV(full_pipeline, param_grid, cv=kfolds,\n",
    "                           scoring=['accuracy', 'f1_weighted'], refit='accuracy', verbose=3)\n",
    "                           \n",
    "_ = grid_search.fit(X_train, y_train)"
   ]
  },
  {
   "cell_type": "markdown",
   "metadata": {},
   "source": [
    "## Customize best model\n",
    "\n",
    "Since this is a spam classifier it makes sense to maximize precision while worsening  recall."
   ]
  },
  {
   "cell_type": "code",
   "execution_count": 40,
   "metadata": {},
   "outputs": [],
   "source": [
    "y_proba = cross_val_predict(grid_search.best_estimator_, X_train, y_train, cv=kfolds,\n",
    "                            method=\"predict_proba\")\n",
    "precisions, recalls, thresholds = precision_recall_curve(y_train, y_proba[:, 1])"
   ]
  },
  {
   "cell_type": "code",
   "execution_count": 41,
   "metadata": {},
   "outputs": [
    {
     "data": {
      "image/png": "[encoded data removed]",
      "text/plain": [
       "<Figure size 576x288 with 1 Axes>"
      ]
     },
     "metadata": {
      "needs_background": "light"
     },
     "output_type": "display_data"
    }
   ],
   "source": [
    "plot_precision_recall_vs_threshold(precisions, recalls, thresholds, cond=np.argmax(precisions >= .999))"
   ]
  },
  {
   "cell_type": "markdown",
   "metadata": {},
   "source": [
    "## Test\n",
    "\n",
    "Final metrics on unseen data."
   ]
  },
  {
   "cell_type": "code",
   "execution_count": 42,
   "metadata": {},
   "outputs": [
    {
     "name": "stdout",
     "output_type": "stream",
     "text": [
      "Accuracy: 97.53%\n",
      "Precision: 100.00%\n",
      "Recall: 91.94%\n"
     ]
    }
   ],
   "source": [
    "custom_thr = thresholds[np.argmax(precisions >= .99)]\n",
    "y_hat = grid_search.best_estimator_.predict_proba(X_test)[:,1] >= custom_thr\n",
    "\n",
    "print(f\"Accuracy: {accuracy_score(y_test, y_hat):.2%}\")\n",
    "print(f\"Precision: {precision_score(y_test, y_hat):.2%}\")\n",
    "print(f\"Recall: {recall_score(y_test, y_hat):.2%}\")"
   ]
  }
 ],
 "metadata": {
  "interpreter": {
   "hash": "576f9d133f1af6bda2497d74c6a34a5733efffdc77943032fb1e42d8bbd61d88"
  },
  "kernelspec": {
   "display_name": "Python 3.8.12 ('handsonml2')",
   "language": "python",
   "name": "python3"
  },
  "language_info": {
   "codemirror_mode": {
    "name": "ipython",
    "version": 3
   },
   "file_extension": ".py",
   "mimetype": "text/x-python",
   "name": "python",
   "nbconvert_exporter": "python",
   "pygments_lexer": "ipython3",
   "version": "3.8.12"
  },
  "orig_nbformat": 4
 },
 "nbformat": 4,
 "nbformat_minor": 2
}
